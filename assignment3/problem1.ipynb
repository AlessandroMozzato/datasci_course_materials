{
 "cells": [
  {
   "cell_type": "code",
   "execution_count": 2,
   "metadata": {
    "collapsed": false
   },
   "outputs": [],
   "source": [
    "import MapReduce\n",
    "import sys\n",
    "\n",
    "def inverted_index(loc):\n",
    "    # Part 1\n",
    "    mr = MapReduce.MapReduce()\n",
    "    \n",
    "    # Part 2\n",
    "    def mapper(record):\n",
    "        # key: document identifier\n",
    "        # value: document contents\n",
    "        key = record[0]\n",
    "        value = record[1]\n",
    "        words = value.split()\n",
    "        for w in words:\n",
    "            mr.emit_intermediate(w, key)            \n",
    "            \n",
    "    # Part 3\n",
    "    def reducer(key, list_of_values):\n",
    "        # key: word\n",
    "        # value: list of occurrence counts\n",
    "        doc_list = list()\n",
    "        for v in list_of_values:\n",
    "            if not(v in doc_list):\n",
    "                doc_list.append(v)\n",
    "        mr.emit((key, doc_list))\n",
    "\n",
    "    # Part 4\n",
    "    inputdata = open(loc)\n",
    "    mr.execute(inputdata, mapper, reducer)\n",
    "    \n",
    "#inverted_index('data/books.json')"
   ]
  },
  {
   "cell_type": "code",
   "execution_count": 104,
   "metadata": {
    "collapsed": false
   },
   "outputs": [
    {
     "name": "stdout",
     "output_type": "stream",
     "text": [
      "[u'a', 0, 0, 63]\n",
      "[u'a', 0, 1, 45]\n",
      "[u'a', 0, 2, 93]\n",
      "[u'a', 0, 3, 32]\n",
      "[u'a', 0, 4, 49]\n",
      "[u'a', 1, 0, 33]\n",
      "[u'a', 1, 3, 26]\n",
      "[u'a', 1, 4, 95]\n",
      "[u'a', 2, 0, 25]\n",
      "[u'a', 2, 1, 11]\n",
      "[u'a', 2, 3, 60]\n",
      "[u'a', 2, 4, 89]\n",
      "[u'a', 3, 0, 24]\n",
      "[u'a', 3, 1, 79]\n",
      "[u'a', 3, 2, 24]\n",
      "[u'a', 3, 3, 47]\n",
      "[u'a', 3, 4, 18]\n",
      "[u'a', 4, 0, 7]\n",
      "[u'a', 4, 1, 98]\n",
      "[u'a', 4, 2, 96]\n",
      "[u'a', 4, 3, 27]\n",
      "[u'b', 0, 0, 63]\n",
      "[u'b', 0, 1, 18]\n",
      "[u'b', 0, 2, 89]\n",
      "[u'b', 0, 3, 28]\n",
      "[u'b', 0, 4, 39]\n",
      "[u'b', 1, 0, 59]\n",
      "[u'b', 1, 1, 76]\n",
      "[u'b', 1, 2, 34]\n",
      "[u'b', 1, 3, 12]\n",
      "[u'b', 1, 4, 6]\n",
      "[u'b', 2, 0, 30]\n",
      "[u'b', 2, 1, 52]\n",
      "[u'b', 2, 2, 49]\n",
      "[u'b', 2, 3, 3]\n",
      "[u'b', 2, 4, 95]\n",
      "[u'b', 3, 0, 77]\n",
      "[u'b', 3, 1, 75]\n",
      "[u'b', 3, 2, 85]\n",
      "[u'b', 4, 1, 46]\n",
      "[u'b', 4, 2, 33]\n",
      "[u'b', 4, 3, 69]\n",
      "[u'b', 4, 4, 88]\n",
      "[\"a\", 96]\n",
      "[\"b\", 76]\n",
      "[\"b\", 6]\n",
      "[\"a\", 24]\n",
      "[\"b\", 75]\n",
      "[\"a\", 11]\n",
      "[\"a\", 95]\n",
      "[\"b\", 39]\n",
      "[\"b\", 49]\n",
      "[\"b\", 46]\n",
      "[\"a\", 60]\n",
      "[\"b\", 89]\n",
      "[\"a\", 47]\n",
      "[\"a\", 25]\n",
      "[\"b\", 52]\n",
      "[\"a\", 18]\n",
      "[\"b\", 30]\n",
      "[\"b\", 85]\n",
      "[\"a\", 49]\n",
      "[\"b\", 63]\n",
      "[\"a\", 98]\n",
      "[\"b\", 88]\n",
      "[\"b\", 34]\n",
      "[\"a\", 32]\n",
      "[\"b\", 12]\n",
      "[\"a\", 26]\n",
      "[\"a\", 79]\n",
      "[\"b\", 95]\n",
      "[\"b\", 18]\n",
      "[\"a\", 93]\n",
      "[\"a\", 33]\n",
      "[\"a\", 27]\n",
      "[\"b\", 77]\n",
      "[\"a\", 89]\n",
      "[\"b\", 33]\n",
      "[\"a\", 45]\n",
      "[\"a\", 7]\n",
      "[\"b\", 59]\n",
      "[\"b\", 28]\n",
      "[\"a\", 63]\n",
      "[\"b\", 3]\n",
      "[\"b\", 69]\n"
     ]
    }
   ],
   "source": [
    "def join(loc):\n",
    "    # Part 1\n",
    "    mr = MapReduce.MapReduce()\n",
    "    \n",
    "    # Part 2\n",
    "    def mapper(record):\n",
    "        # key: document identifier\n",
    "        # value: document contents\n",
    "        print record\n",
    "        for i in range(5)\n",
    "        key = (record[1],record[2])\n",
    "        value = (record[0],record[3])\n",
    "        mr.emit_intermediate(value,key) \n",
    "    # Part 3\n",
    "    def reducer(key, list_of_values):\n",
    "        # key: word\n",
    "        # value: list of occurrence counts\n",
    "        #print key,list_of_values\n",
    "        #to_print = set(list_of_values)\n",
    "        #print len(list_of_values),len(to_print)\n",
    "        #for el in to_print:\n",
    "        mr.emit(key)\n",
    "\n",
    "    # Part 4\n",
    "    inputdata = open(loc)\n",
    "    mr.execute(inputdata, mapper, reducer)\n",
    "    \n",
    "#join('data/friends.json')\n",
    "join('data/matrix.json')"
   ]
  },
  {
   "cell_type": "code",
   "execution_count": 44,
   "metadata": {
    "collapsed": false
   },
   "outputs": [],
   "source": [
    "a = list()\n",
    "a.append()\n",
    "\n",
    "b = list(a)\n"
   ]
  },
  {
   "cell_type": "code",
   "execution_count": 44,
   "metadata": {
    "collapsed": false
   },
   "outputs": [
    {
     "name": "stdout",
     "output_type": "stream",
     "text": [
      "{}\n"
     ]
    }
   ],
   "source": [
    "dic = {}\n",
    "dic['a'] = 1\n",
    "dic.pop('a')\n",
    "print dic"
   ]
  },
  {
   "cell_type": "code",
   "execution_count": 111,
   "metadata": {
    "collapsed": false
   },
   "outputs": [
    {
     "name": "stdout",
     "output_type": "stream",
     "text": [
      "[u'sss']\n"
     ]
    }
   ],
   "source": [
    "rr = u'sss'\n",
    "b = list([rr])\n",
    "print b"
   ]
  },
  {
   "cell_type": "code",
   "execution_count": 4,
   "metadata": {
    "collapsed": false
   },
   "outputs": [],
   "source": [
    "a = [\"Valjean\", \"Fantine\"]"
   ]
  },
  {
   "cell_type": "code",
   "execution_count": 5,
   "metadata": {
    "collapsed": false
   },
   "outputs": [
    {
     "data": {
      "text/plain": [
       "'Fantine'"
      ]
     },
     "execution_count": 5,
     "metadata": {},
     "output_type": "execute_result"
    }
   ],
   "source": [
    "a[1]"
   ]
  },
  {
   "cell_type": "code",
   "execution_count": null,
   "metadata": {
    "collapsed": true
   },
   "outputs": [],
   "source": []
  }
 ],
 "metadata": {
  "kernelspec": {
   "display_name": "Python 2",
   "language": "python",
   "name": "python2"
  },
  "language_info": {
   "codemirror_mode": {
    "name": "ipython",
    "version": 2
   },
   "file_extension": ".py",
   "mimetype": "text/x-python",
   "name": "python",
   "nbconvert_exporter": "python",
   "pygments_lexer": "ipython2",
   "version": "2.7.10"
  }
 },
 "nbformat": 4,
 "nbformat_minor": 0
}
